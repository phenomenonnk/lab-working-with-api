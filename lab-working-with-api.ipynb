{
 "cells": [
  {
   "cell_type": "markdown",
   "id": "8e3c6d7a",
   "metadata": {},
   "source": [
    "# lab-working-with-api"
   ]
  },
  {
   "cell_type": "markdown",
   "id": "c5d4149a",
   "metadata": {},
   "source": [
    "### Instructions"
   ]
  },
  {
   "cell_type": "markdown",
   "id": "8c7cfb11",
   "metadata": {},
   "source": [
    "#### Following the class example, create a function that returns the price, names of origin and arrival airports and the name of the company. Do it for all the flights between two dates that cost the same."
   ]
  },
  {
   "cell_type": "markdown",
   "id": "d512e760",
   "metadata": {},
   "source": [
    "#### some of the sources are not available in the APIs, so we are not be able to finish the lab with the exact instructions\n",
    "#### we will create a free lab"
   ]
  },
  {
   "cell_type": "code",
   "execution_count": 1,
   "id": "fbe556df",
   "metadata": {},
   "outputs": [
    {
     "name": "stdout",
     "output_type": "stream",
     "text": [
      "{\"items\":[\"KSAF\",\"PAEN\",\"UUOB\",\"EGLL\",\"KCAK\",\"KITH\",\"LEGE\",\"OEHL\",\"ZBYC\",\"ZSSH\",\"HKKI\",\"KSGF\",\"KTVC\",\"USRK\",\"VYKI\",\"CYYJ\",\"LGKJ\",\"PASH\",\"VIPT\",\"WIII\",\"CYZR\",\"FALA\",\"FTTY\",\"KBFF\",\"KMIA\",\"SBVH\",\"WMKN\",\"YMAE\",\"ZGGG\",\"CYFC\",\"KFAT\",\"OISS\",\"SKPD\",\"ENLK\",\"KGLH\",\"LFRZ\",\"NZWB\",\"RJBB\",\"RKTH\",\"SBTC\",\"VOGO\",\"ZYJZ\",\"CYXS\",\"ENGM\",\"EPWR\",\"OIZC\",\"PAPB\",\"ROAH\",\"UKLL\",\"VVPB\",\"BGPT\",\"GVSF\",\"HKMO\",\"SAZS\",\"YFTZ\",\"CCZ2\",\"KDSM\",\"NTTR\",\"PAUK\",\"UNEE\",\"WBKL\",\"ZBTL\",\"EGPN\",\"KBED\",\"KBZN\",\"LFRD\",\"PAKP\",\"SVMC\",\"DTTJ\",\"EDDF\",\"LEJR\",\"MBSY\",\"NFNA\",\"NTTO\",\"PAJZ\",\"SCSE\",\"UUYY\",\"YMTG\",\"AYMS\",\"LTCR\",\"MYGF\",\"SBDB\",\"WBGQ\",\"DIOD\",\"ENFL\",\"KCRW\",\"KJMS\",\"LTDA\",\"MYSM\",\"NTGQ\",\"SBTT\",\"DTNH\",\"ENHV\",\"KCLE\",\"MBGT\",\"OIBL\",\"SBPV\",\"VIJP\",\"YIVL\",\"ZUZH\",\"CAP3\",\"CYSM\",\"MHSC\",\"OEDF\",\"RJKI\",\"RPMH\",\"SECU\",\"YWBS\",\"KSLC\",\"LEMI\",\"LTFE\",\"SKCC\",\"ZLZY\",\"CYWJ\",\"KFLL\",\"LIMF\",\"MDJB\",\"NZCH\",\"PFKU\",\"UAUU\",\"KSNA\",\"LEBZ\",\"LICB\",\"MMPG\",\"PASA\",\"SWTS\",\"VLSK\",\"WIDN\",\"ZHNY\",\"PAWI\",\"RJCC\",\"SWGN\",\"VYTL\",\"CYGW\",\"FAPE\",\"KBJI\",\"KDAL\",\"KYKM\",\"UWPS\",\"CYHR\",\"EYKA\",\"RPMY\",\"CYPO\",\"DNMK\",\"DTTX\",\"EDDS\",\"EFIV\",\"SBBR\",\"SPSF\",\"TJPS\",\"WARA\",\"ZBYZ\",\"ZGCD\",\"AYTU\",\"KMCK\",\"LFMN\",\"LIPX\",\"MMMT\",\"SBKG\",\"URWI\",\"VVTS\",\"FBKE\",\"KAVP\",\"LFKC\",\"OESK\",\"SPRU\",\"TJSJ\",\"VIAL\",\"YTRE\",\"CYBG\",\"CYIO\",\"CYYY\",\"EDSB\",\"EHRD\",\"ESSB\",\"SKBG\",\"UKLI\",\"URMN\",\"YBPN\",\"YMIA\",\"YSII\",\"LTCP\",\"MDSD\",\"MRQP\",\"MWCR\",\"NVVI\",\"SBLO\",\"CYBC\",\"CYEV\",\"LGHI\",\"NVSV\",\"NVVB\",\"NZNS\",\"SCIP\",\"SYGO\",\"UOOO\",\"FWCL\",\"GMMZ\",\"HKLU\",\"KJLN\",\"SKAS\",\"SVVG\",\"TFFR\",\"ULMK\",\"CYUL\",\"ENRA\",\"KHOT\",\"USHH\",\"EGSH\",\"LQBK\",\"PGSN\",\"SKVP\",\"CYZF\",\"FAOR\",\"KLUK\",\"KSMX\",\"RPMR\",\"SBUR\",\"WBSB\",\"WIMM\",\"DAUE\",\"KBGM\",\"KCGF\",\"OPPS\",\"ROIG\",\"USRR\",\"UWLL\",\"VTST\",\"CYTE\",\"LFQQ\",\"LHDC\",\"UUDL\",\"WAMW\",\"YBOI\",\"LPPD\",\"NVSN\",\"SBCG\",\"SWMW\",\"AYGN\",\"HEMA\",\"KBHM\",\"KBQK\",\"KLNS\",\"RPVD\",\"FKKD\",\"KFLG\",\"RPVE\",\"SBQV\",\"EIKN\",\"LEGR\",\"OISL\",\"SKPE\",\"ZWAT\",\"OIMT\",\"SAAV\",\"SBCB\",\"VVDN\",\"YLRE\",\"ZYHE\",\"CYHA\",\"KDAY\",\"LFOB\",\"PAHU\",\"ZBSJ\",\"CYAT\",\"HCMF\",\"KPDT\",\"PAAL\",\"KLEB\",\"RPVU\",\"UWKJ\",\"DGSI\",\"EGGP\",\"NVVF\",\"PABL\",\"FVHA\",\"MUCU\",\"VAAU\",\"WIOS\",\"YSSY\",\"KACK\",\"PACI\",\"SPLO\",\"YPPH\",\"ZGBH\",\"CYVL\",\"EPMO\",\"FYWB\",\"NGNU\",\"URWA\",\"VTSS\",\"BGTL\",\"ESDF\",\"KOAK\",\"NTMN\",\"VMMC\",\"VOCI\",\"WAPI\",\"ZMUG\",\"DAOY\",\"SKGP\",\"UAAA\",\"YPLM\",\"CYBX\",\"ENNM\",\"HEAT\",\"KSLN\",\"NTGT\",\"TJMZ\",\"VTBS\",\"YPCC\",\"EKRN\",\"ENMH\",\"KACV\",\"KTUS\",\"MDST\",\"OMAA\",\"PAKF\",\"RJFE\",\"FQTT\",\"FQVL\",\"KCSG\",\"KPGA\",\"NTAA\",\"VIPK\",\"VOMD\",\"YCBA\",\"PAHN\",\"PHMU\",\"SAAR\",\"UHWW\",\"WABO\",\"YWTN\",\"KBHB\",\"KHRO\",\"LTCK\",\"LTFD\",\"WMKL\",\"ZUYB\",\"EGCC\",\"ESNX\",\"GVNP\",\"HSSS\",\"KCOS\",\"KDDC\",\"KGTF\",\"KOGD\",\"LIMC\",\"RJEO\",\"ZLIC\",\"FMEP\",\"GEML\",\"KLBF\",\"KSMF\",\"LFBZ\",\"PPIZ\",\"SBAE\",\"SBGR\",\"FYRU\",\"KLWB\",\"KSHD\",\"USCC\",\"VANP\",\"VELP\",\"VTUI\",\"YPLC\",\"SBDO\",\"USDS\",\"YKUB\",\"YSNF\",\"YTGM\",\"CYBD\",\"KABI\",\"MMAS\",\"NZPN\",\"UTDT\",\"VCCS\",\"ZBLA\",\"BIIS\",\"FMCI\",\"KEWN\",\"LIPQ\",\"NZNR\",\"SNRU\",\"CYRT\",\"KMCN\",\"RJAA\",\"RJDC\",\"SBCT\",\"SWJN\",\"YPPD\",\"CYCA\",\"ESNK\",\"WATB\",\"WBGM\",\"YBCK\",\"YHBA\",\"GCTS\",\"LGKY\",\"PABA\",\"SKAR\",\"VIJU\",\"WION\",\"ZLJQ\",\"FNCT\",\"LFTW\",\"LIEO\",\"MMTC\",\"NTGK\",\"RJOW\",\"VNDH\",\"WBGF\",\"CYVZ\",\"KMCW\",\"KRKS\",\"LGSY\",\"OETF\",\"PHMK\",\"SAEZ\",\"BGUK\",\"CYHI\",\"FMMT\",\"GCLP\",\"PAWN\",\"UUDD\",\"WBGJ\",\"CAD4\",\"CYUT\",\"LGLM\",\"UKOH\",\"EDNY\",\"LFBO\",\"LTAC\",\"NLWF\",\"RJNT\",\"SBSR\",\"LDDU\",\"LRSB\",\"MMEP\",\"VVDB\",\"EPWA\",\"FAKM\",\"KSBY\",\"LFBI\",\"LTCG\",\"LUKK\",\"OIZI\",\"UHKK\",\"DAUU\",\"DNAS\",\"EFPO\",\"EFSA\",\"KBKW\",\"PALB\",\"SARI\",\"UIII\",\"CYAZ\",\"HKSB\",\"HTTB\",\"KCHA\",\"LRTM\",\"PFAL\",\"UEBB\",\"ZBUH\",\"DIKO\",\"EFKE\",\"EGNV\",\"OLBA\",\"UENW\",\"YBIE\",\"ZGBS\",\"OKBK\",\"SBMK\",\"SVMI\",\"ULAS\",\"YPKU\",\"CYAS\",\"DNKN\",\"ENKB\",\"FIMR\",\"KGGG\",\"SBTB\",\"VOBL\",\"WITT\",\"DABB\",\"HRZA\",\"KCHS\",\"SAVC\",\"SKLC\",\"UAOO\",\"UTSS\",\"HLLM\",\"KLAW\",\"KMKL\",\"LFKB\",\"SCEL\",\"SWRD\",\"VVTH\",\"YNAR\",\"CYNL\",\"FARB\",\"MYAM\",\"OPMT\",\"RCNN\",\"SVMG\",\"SWSI\",\"VYLK\",\"YSHK\",\"ZWSH\",\"CYQB\",\"EDDC\",\"KCDR\",\"KSVC\",\"LBSF\",\"LFSB\",\"NVSU\",\"PAKO\",\"SVBC\",\"URWW\",\"ZSNJ\",\"GMFK\",\"HAGN\",\"LDZD\",\"LMML\",\"NTKO\",\"WIBB\",\"AYWD\",\"KJAN\",\"KMYR\",\"KPKB\",\"KRFD\",\"PABE\",\"PAIL\",\"PAOM\",\"TNCE\",\"ZLHZ\",\"DGTK\",\"FNGI\",\"FZAA\",\"LPAZ\",\"UATE\",\"VYEL\",\"HABD\",\"PFKA\",\"RPVF\",\"VYLS\",\"WALK\",\"HELX\",\"MMPN\",\"SBFN\",\"SPJR\",\"VNTR\",\"WAMR\",\"AGGL\",\"CKQ3\",\"EKSB\",\"PKWA\",\"SBMO\",\"SKBO\",\"AGGE\",\"OEBH\",\"SBMG\",\"SPUR\",\"URSS\",\"YWYY\",\"AGRM\",\"CYXE\",\"ESMQ\",\"NTKM\",\"NVSL\",\"PADU\",\"PHLI\",\"PKMJ\",\"TAPA\",\"VNNG\",\"VOAT\",\"WBKT\",\"FAKN\",\"FOON\",\"KDRT\",\"KORH\",\"LRIA\",\"MMCP\",\"YGTH\",\"ZWTP\",\"FAGG\",\"GCLA\",\"LIRZ\",\"OPZB\",\"USHI\",\"FQLC\",\"ZSWH\",\"KMEM\",\"MUCC\",\"NZKK\",\"OITM\",\"SBDN\",\"YNBR\",\"EPKK\",\"FZKA\",\"LIPY\",\"PATG\",\"SARE\",\"VTCH\",\"VYMK\",\"WAKT\",\"ZPLC\",\"FLMF\",\"LFRB\",\"WBGR\",\"ZSAM\",\"ENSO\",\"KFAY\",\"MGMM\",\"RJTH\",\"HUPA\",\"YLHI\",\"EKCH\",\"KJAX\",\"OERR\",\"ORMM\",\"PHJH\",\"USRO\",\"VYTD\",\"HUEN\",\"MMLT\",\"MMTG\",\"OIBQ\",\"ANYN\",\"KMRY\",\"KPIH\",\"NFVB\",\"RJFC\",\"RKJY\",\"TNCB\",\"VIBK\",\"VQPR\",\"AGAT\",\"FNUB\",\"PAIW\",\"SACO\",\"YBDG\",\"HLLS\",\"OEAH\",\"SSSC\",\"VTCC\",\"WIOD\",\"CYHD\",\"KDBQ\",\"KVNY\",\"PFNO\",\"SKBQ\",\"CZUM\",\"DAUI\",\"HTKA\",\"KALW\",\"KTEB\",\"MMML\",\"MMPS\",\"NVVA\",\"YBTH\",\"YRMD\",\"CCK4\",\"LIPK\",\"PFYU\",\"SCCI\",\"YNWN\",\"ZSJJ\",\"CYYG\",\"KCCR\",\"KJBR\",\"LFCK\",\"LGPL\",\"LTCJ\",\"PADY\",\"VEPG\",\"VNVT\",\"WBKS\",\"ZBTS\",\"CYXP\",\"CYYC\",\"EDDP\",\"OIKY\",\"SBPL\",\"UTAM\",\"WATR\",\"YNRV\",\"CYCD\",\"CZFD\",\"HTMT\",\"MMCU\",\"SAVY\",\"AGGS\",\"DNEN\",\"HKLY\",\"LTAU\",\"MYLS\",\"SBIZ\",\"SSKW\",\"TNCM\",\"VVDL\",\"CYVM\",\"LGKZ\",\"LGNX\",\"NGTM\",\"PAPH\",\"YMDG\",\"EGBB\",\"HTAR\",\"KGTR\",\"MMHO\",\"PADG\",\"UUYW\",\"WAOS\",\"DABS\",\"FLKL\",\"FTTJ\",\"LERJ\",\"ORNI\",\"PHNY\",\"SBPA\",\"FGBT\",\"LBPD\",\"LGKO\",\"YBAS\",\"FANG\",\"LGMT\",\"LTFM\",\"RCMQ\",\"TFFF\",\"UTFN\",\"WAAA\",\"WAPP\",\"YBMK\",\"FASZ\",\"KGSP\",\"LGSO\",\"LIBP\",\"OOSA\",\"URML\",\"UTAV\",\"EDXW\",\"EFJO\",\"ENBO\",\"ESGG\",\"PARC\",\"SBIL\",\"SPJJ\",\"WAMM\",\"KIMT\",\"LRSV\",\"LTAI\",\"OABT\",\"RPMD\",\"UGSB\",\"AGGM\",\"FSPP\",\"HKJK\",\"LRSM\",\"ORER\",\"RORY\",\"SKGO\",\"ZSXZ\",\"ESMT\",\"SBKP\",\"CYWG\",\"KALS\",\"KHRL\",\"KMFE\",\"KPHX\",\"NGTE\",\"PAKH\",\"SBGO\",\"SKBS\",\"VQGP\",\"LGKF\",\"RJOA\",\"VGBR\",\"VIBY\",\"WATM\",\"ZPSM\",\"ZUXC\",\"ZYFY\",\"CZMT\",\"GMAZ\",\"KBRL\",\"KLEX\",\"LGML\",\"RJBE\",\"CYRL\",\"EFKI\",\"GLRB\",\"KBOS\",\"LEAG\",\"RJNK\",\"ZUKJ\",\"MTCH\",\"URMM\",\"VEMR\",\"YELD\",\"ZLTS\",\"AYMD\",\"HTLM\",\"LEBG\",\"SASJ\",\"WAJW\",\"YSWG\",\"ZGHA\",\"ZSTX\",\"AGGT\",\"KBJC\",\"LFBD\",\"LOWW\",\"MYAN\",\"PAWG\",\"SANT\",\"VELR\",\"ZGSZ\",\"DATG\",\"OEAO\",\"OICC\",\"OMAL\",\"VISR\",\"WBGW\",\"YMLT\",\"KMKC\",\"KOAJ\",\"KSUX\",\"LGIK\",\"LGKC\",\"LZIB\",\"SGAS\",\"ZYCY\",\"ZYMD\",\"CYUX\",\"DABT\",\"DAOI\",\"KIRK\",\"LDZA\",\"MMTJ\",\"SBCY\",\"DGLE\",\"EBAW\",\"EGAE\",\"KACT\",\"LDRI\",\"VIBR\",\"CYLA\",\"HABC\",\"HUJI\",\"KELP\",\"KSTC\",\"LRBM\",\"SKSV\",\"UBBG\",\"VAAH\",\"VICG\",\"VOBM\",\"YCKN\",\"EPBY\",\"KIAG\",\"UAII\",\"EGPA\",\"ESNQ\",\"FMNN\",\"FZNA\",\"HSSJ\",\"KSJT\",\"PANW\",\"SSER\",\"WICC\",\"KGJT\",\"NGON\",\"PASK\",\"SANC\",\"YMAV\",\"FMST\",\"HTDA\",\"HTSN\",\"KCHO\",\"KEKO\",\"KPBI\",\"SAZN\",\"ZYAS\",\"ENHK\",\"FQMA\",\"PAFM\",\"LIBC\",\"LIRA\",\"SBRP\",\"USHS\",\"EGEC\",\"FCBB\",\"PASD\",\"SBCF\",\"UHHH\",\"VIDP\",\"CYMX\",\"RPUW\",\"SBMQ\",\"WBMU\",\"CYGL\",\"KMSP\",\"PAOH\",\"VRMK\",\"WIDD\",\"CYHU\",\"GCHI\",\"KAUS\",\"KBTM\",\"LFRN\",\"SCCF\",\"SWLC\",\"ZUCK\",\"CZEM\",\"OESH\",\"OPLA\",\"ZSSS\",\"KMGW\",\"KMHR\",\"LFMT\",\"LPFL\",\"NTGC\",\"PAPE\",\"UTDK\",\"VNSI\",\"YYMI\",\"NTKR\",\"AYTA\",\"LKPD\",\"OEDW\",\"SBPB\",\"URKK\",\"VAID\",\"YPAD\",\"AYTK\",\"CYAG\",\"DAUK\",\"KBFL\",\"KHLN\",\"MDPP\",\"WABB\",\"ZYYJ\",\"MMMZ\",\"MUCL\",\"NCAI\",\"PADQ\",\"RJSK\",\"SSZR\",\"KGNV\",\"KMTJ\",\"SKLG\",\"ZLXN\",\"ZSWZ\",\"BGSF\",\"EBLG\",\"FLSW\",\"LFKJ\",\"UASP\",\"VEBS\",\"YWDH\",\"ZGWZ\",\"GMTA\",\"MBSC\",\"MMDO\",\"NFTF\",\"CYPW\",\"ESNS\",\"GCXO\",\"PTKK\",\"YBCS\",\"YESP\",\"YMML\",\"YTNK\",\"CYQR\",\"EDDB\",\"KHGR\",\"KSAN\",\"OPSD\",\"VRMO\",\"WAPL\",\"YTEF\",\"AYDU\",\"DBBB\",\"KGRK\",\"UNWW\",\"ZHHH\",\"DNCA\",\"MMCM\",\"PAYA\",\"SKCG\",\"WIOK\",\"FVBU\",\"HKML\",\"KSDL\",\"MKJS\",\"MUSC\",\"PFCB\",\"USCM\",\"YHUG\",\"YMNE\",\"GOGG\",\"HEGN\",\"LIME\",\"MMTP\",\"ROKJ\",\"SCJO\",\"ZMDN\",\"EGOV\",\"SWEI\",\"VABO\",\"VGCB\",\"AYKY\",\"FZWA\",\"KMDT\",\"LFBL\",\"OPQT\",\"SKTM\",\"CCP4\",\"DAUL\",\"EBCI\",\"EDVE\",\"OEWJ\",\"OPBW\",\"SBHT\",\"TUPW\",\"WARQ\",\"ZGOW\",\"KBMI\",\"MMGL\",\"MYER\",\"UKLU\",\"VLLN\",\"CYZP\",\"LFSL\",\"MPCH\",\"MYLD\",\"VTUO\",\"NVSA\",\"SPTN\",\"WABP\",\"CYEK\",\"KRST\",\"KWYS\",\"MMVA\",\"SVPR\",\"VTBD\",\"VTCP\",\"YSGE\",\"ZUGY\",\"CYPR\",\"KTBN\",\"WATO\",\"YLRD\",\"CYYB\",\"KBUF\",\"KGPT\",\"LEVD\",\"LTCS\",\"SANH\",\"SAVT\",\"UTAT\",\"VARP\",\"ELLX\",\"LGLE\",\"LIBD\",\"LJLJ\",\"NTGN\",\"RJOR\",\"SBCR\",\"SPYL\",\"VCBI\",\"BGGH\",\"CYMM\",\"FAPP\",\"PAML\",\"YJLC\",\"ZUWX\",\"GCRR\",\"GMMH\",\"LEVX\",\"LRCK\",\"MMZH\",\"NZCI\",\"WICT\",\"ZMAT\",\"RJFK\",\"RJKB\",\"SNOX\",\"SPQT\",\"UUYS\",\"UWKS\",\"CYMU\",\"DFFD\",\"EGGD\",\"KTEX\",\"KTOL\",\"MMUN\",\"NVSQ\",\"PAQT\",\"UTDD\",\"VTBU\",\"KAPN\",\"MMIA\",\"NVSW\",\"UUWW\",\"ZUTR\",\"ZUUU\",\"ZWTC\",\"HTIR\",\"KTUL\",\"PAGM\",\"SECO\",\"SKPC\",\"VGRJ\",\"VTUL\",\"ZPPP\",\"KSGU\",\"OIMS\",\"ULOO\",\"VASU\",\"CYGZ\",\"DNAK\",\"GMMI\",\"OINR\",\"PFSH\",\"RPMO\",\"SKUI\",\"SKYP\",\"VIGR\",\"KMFR\",\"LIRQ\",\"PAPN\",\"UIBB\",\"FMMI\",\"VNBP\",\"ZGMX\",\"LEAM\",\"NTGD\",\"ZBCF\",\"AYNZ\",\"EGCN\",\"KPDK\",\"LFBP\",\"RJOM\",\"SANL\",\"SBBE\",\"UENI\",\"VNLK\",\"NGTR\",\"OEPA\",\"OICK\",\"OING\",\"RJNO\",\"WATE\",\"DAAE\",\"DNBE\",\"EDDE\",\"HTZA\",\"KORD\",\"KRIC\",\"MPPA\",\"OETB\",\"PAVA\",\"TNCC\",\"CYPA\",\"FGSL\",\"FMNR\",\"KCID\",\"KELM\",\"RPME\",\"CYVQ\",\"ENEV\",\"KBPT\",\"KEUG\",\"KLGB\",\"LIRF\",\"MMCE\",\"NTGU\",\"OIII\",\"VABJ\",\"VAJM\",\"VVCM\",\"BGKK\",\"EGNJ\",\"GFLL\",\"KACY\",\"NFKD\",\"OAZJ\",\"RJSM\",\"SWFX\",\"UEVV\",\"VNBW\",\"ZSPD\",\"DAOF\",\"FMEE\",\"OIFS\",\"RJNS\",\"RPNS\",\"RPUT\",\"VRMH\",\"EDDW\",\"KDAB\",\"KPWM\",\"SBFI\",\"SBMS\",\"SKLT\",\"ZPJH\",\"AYPY\",\"KCOU\",\"KCRP\",\"KFWA\",\"KMHK\",\"NVSS\",\"RJEC\",\"SLVR\",\"YWWI\",\"EGPK\",\"LCEN\",\"RPVI\",\"VDPP\",\"YABA\",\"ZSJD\",\"CCE4\",\"CYSF\",\"SBFZ\",\"SEST\",\"OSKL\",\"RCFN\",\"RJOH\",\"RKND\",\"TIST\",\"WIPA\",\"BGJN\",\"KMSY\",\"NZPP\",\"SBSM\",\"VTSC\",\"KAMA\",\"VAPO\",\"VOMY\",\"ZBAA\",\"ZGNN\",\"CYGP\",\"FYOA\",\"LIRJ\",\"PATQ\",\"SBVT\",\"UTST\",\"UUBA\",\"CYXH\",\"CYYZ\",\"LFRG\",\"PHOG\",\"VOHS\",\"ZHXF\",\"EYPA\",\"UDYZ\",\"VAKP\",\"WIOP\",\"KPIR\",\"LFMU\",\"LOWK\",\"SCGE\",\"YCDU\",\"YMOR\",\"CYLU\",\"KASE\",\"KBIH\",\"KORF\",\"PAIK\",\"RPVR\",\"VIJO\",\"CYYF\",\"FIMP\",\"KCPS\",\"NGMA\",\"TFFG\",\"MYGM\",\"PAVE\",\"SBCH\",\"SPNC\",\"GMMX\",\"OPCH\",\"RJNA\",\"ULWW\",\"VIDN\",\"VLLB\",\"CYCB\",\"EGJJ\",\"EHAM\",\"ESNZ\",\"FSIA\",\"KROA\",\"MMZC\",\"NVSF\",\"RORS\",\"UHKM\",\"FBMN\",\"FZRF\",\"LGBL\",\"NTAM\",\"RJCB\",\"VQBT\",\"WBGI\",\"YGEL\",\"YPGV\",\"DNGO\",\"HALL\",\"HCMM\",\"LGKL\",\"MUHG\",\"PACR\",\"SWLB\",\"USHU\",\"GCFV\",\"GUCY\",\"KBBG\",\"KBFD\",\"LTCN\",\"LTFG\",\"NFNS\",\"NVST\",\"PHTO\",\"RPUN\",\"SBCJ\",\"YBGO\",\"AGKG\",\"LGSM\",\"NFNL\",\"RJSR\",\"UHSS\",\"YCMU\",\"EKYT\",\"FAHS\",\"LDPL\",\"MHLM\",\"PACV\",\"VLFL\",\"KLIT\",\"VNRB\",\"VOHB\",\"ZWCM\",\"BGQQ\",\"CYDF\",\"HUMA\",\"USSS\",\"ZWYN\",\"ZYTN\",\"ESND\",\"LPSJ\",\"LZKZ\",\"UHSH\",\"UUOK\",\"WIMG\",\"HEBL\",\"KHDN\",\"KPVD\",\"MNMG\",\"RCFG\",\"UECT\",\"VA1P\",\"VTPP\",\"YAYE\",\"KOGS\",\"UNNT\",\"CYBL\",\"CYFS\",\"EEKE\",\"NVSH\",\"SBJI\",\"WBKK\",\"ZWHM\",\"HHAS\",\"LTCT\",\"OIMM\",\"RJSN\",\"SBSN\",\"VAKE\",\"ZHLY\",\"DXXX\",\"KEWB\",\"RKJJ\",\"SKVV\",\"VOML\",\"ESSA\",\"HTDO\",\"KGUC\",\"KSRQ\",\"MHLC\",\"WMKK\",\"ENSB\",\"FBSK\",\"KSPS\",\"LGAL\",\"SPHO\",\"UWPP\",\"VAND\",\"WAJO\",\"CYOJ\",\"KABE\",\"KAPC\",\"RCBS\",\"SPCL\",\"UTFF\",\"VABB\",\"VNJS\",\"VRMR\",\"VVCR\",\"AGGR\",\"DNBA\",\"HETB\",\"OPGT\",\"PAMB\",\"UHWK\",\"DGAA\",\"KSMD\",\"LSGG\",\"LWSK\",\"OIKR\",\"PADM\",\"SVLF\",\"KMOB\",\"MHTG\",\"NTMD\",\"UKKK\",\"VVPK\",\"ZWTN\",\"ENRS\",\"KELD\",\"SBCZ\",\"UKFF\",\"ZBZJ\",\"KBDR\",\"LPCR\",\"SNGI\",\"UHPP\",\"VTSF\",\"YPMP\",\"EGHH\",\"KDIK\",\"MDLR\",\"UWUU\",\"VYSW\",\"ENOV\",\"KDTW\",\"MSLP\",\"OENG\",\"OITP\",\"AGAR\",\"ENMS\",\"KMKG\",\"KVPS\",\"SBIP\",\"YLST\",\"ENZV\",\"YKSC\",\"ZSLD\",\"CYLW\",\"FALE\",\"OIZH\",\"SBEG\",\"SCPQ\",\"CYYT\",\"FPPR\",\"FQPB\",\"GMAG\",\"KDEC\",\"NTKT\",\"VAUD\",\"YBKE\",\"ZHES\",\"HESN\",\"MMBT\",\"NGTS\",\"OOMS\",\"WIPP\",\"KBIS\",\"KMGM\",\"OEBA\",\"PALJ\",\"SKPP\",\"SVMT\",\"VVVH\",\"WMKJ\",\"ENSD\",\"KPHL\",\"LKTB\",\"NTTG\",\"PASC\",\"TFFJ\",\"TNCA\",\"CYQK\",\"EBBR\",\"KPIB\",\"SKBU\",\"UNKY\",\"CYIK\",\"DAOB\",\"EHEH\",\"FLLS\",\"FNSA\",\"KUNV\",\"PAWM\",\"VVDH\",\"YHID\",\"EHGG\",\"KSEA\",\"OISR\",\"RKNW\",\"UKOO\",\"CYHY\",\"CYVC\",\"FAUP\",\"KBOI\",\"KBTR\",\"LTCF\",\"NVSP\",\"RJOK\",\"SBJU\",\"SCNT\",\"USDP\",\"YDBY\",\"FOOG\",\"KTUP\",\"LTCL\",\"MUHA\",\"UUYP\",\"VARK\",\"ZBDT\",\"ZYHB\",\"DRRN\",\"HECA\",\"NTGF\",\"UITT\",\"USMU\",\"WAPG\",\"FEFF\",\"KRNT\",\"RJFM\",\"VILK\",\"EGJA\",\"EPKT\",\"KPVC\",\"MZBZ\",\"DAUB\",\"EDJA\",\"HKAM\",\"LPMA\",\"RJDB\",\"UELL\",\"VTUV\",\"WARS\",\"ZSGZ\",\"ESSL\",\"HKMS\",\"UIKK\",\"KALO\",\"LIEA\",\"LRCL\",\"NVVD\",\"OERF\",\"SKCO\",\"SOCA\",\"ZBHH\",\"NTGJ\",\"OIYY\",\"PAGS\",\"RJAH\",\"USMM\",\"YGFN\",\"ZBCZ\",\"DNPO\",\"KIND\",\"KJFK\",\"LYPG\",\"OSAP\",\"ZSYW\",\"ESNU\",\"KHND\",\"VTSG\",\"ZBTJ\",\"OIIE\",\"RJOT\",\"SSLT\",\"USHN\",\"VEPT\",\"VGSY\",\"ZMUB\",\"ZUNC\",\"DTTA\",\"KROC\",\"NGAB\",\"UGKO\",\"YBRK\",\"HTMA\",\"KFSM\",\"KSTL\",\"LZTT\",\"SABE\",\"VYMD\",\"KPIE\",\"LEBB\",\"PAOB\",\"SAWE\",\"WATW\",\"CYHM\",\"EDAH\",\"EPSC\",\"OITK\",\"PAEM\",\"SCQP\",\"SWCA\",\"UASK\",\"VNCG\",\"ZUGU\",\"CYOC\",\"EFJY\",\"KAZO\",\"LPLA\",\"LSZB\",\"VRMG\",\"VTPH\",\"WASS\",\"YBNA\",\"KAGS\",\"KATY\",\"RCSS\",\"SMJP\",\"UUYI\",\"CYWL\",\"DAON\",\"FYWE\",\"KHVN\",\"MPTO\",\"PAAK\",\"YCBP\",\"YLHR\",\"ZBDS\",\"HEMK\",\"KSFB\",\"PHNL\",\"WAOI\",\"EETN\",\"TUPA\",\"WICP\",\"CYCY\",\"DNYO\",\"FMNM\",\"KRAP\",\"MMVR\",\"NTAR\",\"OIFM\",\"URKG\",\"VIAR\",\"VOCL\",\"ENAT\",\"PACM\",\"PAMY\",\"UUYX\",\"CYFT\",\"DAUH\",\"ENAN\",\"KDCA\",\"LGRX\",\"LICR\",\"MBPV\",\"RJCW\",\"SKIB\",\"WAMY\",\"YLEO\",\"HADR\",\"LRTR\",\"URMO\",\"VOTP\",\"YMTI\",\"CYVP\",\"CYLL\",\"CYPM\",\"EGFF\",\"EGPU\",\"ESOH\",\"FYWH\",\"PANC\",\"VCCB\",\"ZYJM\",\"AYWK\",\"EFTU\",\"FTTC\",\"NZNP\",\"SAVE\",\"VGSD\",\"YMGD\",\"CYCS\",\"CZWL\",\"KUIN\",\"PTSA\",\"RKJK\",\"YARY\",\"YBAR\",\"EBOS\",\"EPLB\",\"KCOD\",\"LECH\",\"PARY\",\"TQPF\",\"UARR\",\"NZWS\",\"UEBS\",\"UHBB\",\"LRCV\",\"MRTR\",\"PAOT\",\"SWRP\",\"UBBN\",\"DATM\",\"KCLL\",\"KSHR\",\"OAKN\",\"RCTP\",\"SLTR\",\"KPAE\",\"LFKF\",\"LFOK\",\"LGPA\",\"RJFG\",\"VTPM\",\"YARG\",\"ZSQZ\",\"BGBW\",\"EFVA\",\"KLAN\",\"LFML\",\"LFRQ\",\"MMCL\",\"VIAG\",\"DIMN\",\"KPNS\",\"MMMD\",\"TGPY\",\"UUOL\",\"WAPD\",\"YWLU\",\"ZWKL\",\"CYGT\",\"ENNA\",\"KEAU\",\"LFPG\",\"LTCI\",\"MMTO\",\"RJSS\",\"SEMT\",\"UUYH\",\"OIAD\",\"PAIG\",\"SPME\",\"UMKK\",\"WATT\",\"YBCV\",\"YROM\",\"EFKT\",\"HSPN\",\"LTAP\",\"NTAV\",\"UUEE\",\"VYKT\",\"ZUZY\",\"AYVN\",\"KSWO\",\"OTHH\",\"RKTU\",\"UTSK\",\"VLSN\",\"VVBM\",\"YOLD\",\"ZLXH\",\"AYHK\",\"DIAP\",\"EGAC\",\"FMSD\",\"HESH\",\"KBRD\",\"ZSJA\",\"KCVN\",\"KMBL\",\"KPSP\",\"SPHI\",\"WAKK\",\"YBOU\",\"SAZR\",\"SBJV\",\"VOVZ\",\"YBUD\",\"CYBE\",\"KTYR\",\"LEPA\",\"USTR\",\"ZSNT\",\"LIEE\",\"MMZO\",\"SBLE\",\"SKMR\",\"FTTA\",\"HTBU\",\"K1G4\",\"KMLB\",\"TLPL\",\"UERR\",\"AGGA\",\"GMAD\",\"GVSN\",\"LFLL\",\"RJKA\",\"VNKT\",\"VOPB\",\"ZGZJ\",\"HTMB\",\"KDFW\",\"MKJP\",\"OAFR\",\"UNBB\",\"CYQX\",\"KDRO\",\"LICG\",\"LYTV\",\"NZGS\",\"SBTS\",\"WARR\",\"ZSJN\",\"PACE\",\"ZLGM\",\"ESMX\",\"CSU2\",\"NTKF\",\"VGJR\",\"EGPH\",\"LFRS\",\"LIMJ\",\"MMCN\",\"ULAA\",\"URRP\",\"YPDN\",\"CYFO\",\"KCGI\",\"KRSW\",\"SKMZ\",\"YBWW\",\"ZMUL\",\"EDDR\",\"ESUT\",\"HKNY\",\"KLBB\",\"UUBW\",\"ZUAS\",\"EBKT\",\"KMWA\",\"LIMP\",\"OOFD\",\"OPSK\",\"SCGZ\",\"DAUT\",\"KLAS\",\"PFWS\",\"TKPK\",\"WAOO\",\"KVLD\",\"RJOO\",\"VNSK\",\"VYKP\",\"ENHD\",\"KCMX\",\"PAEE\",\"RPLI\",\"UERP\",\"DAAV\",\"FAEL\",\"HLKF\",\"KSAV\",\"MMMY\",\"ROMY\",\"YBRM\",\"CYRA\",\"HAJJ\",\"KCIU\",\"KIWD\",\"LTBR\",\"NTGH\",\"SKMU\",\"SKSJ\",\"UNKL\",\"VECC\",\"ZSWY\",\"KABR\",\"LEVT\",\"NTGM\",\"CYPX\",\"FTTD\",\"LEAS\",\"NZWR\",\"OIAM\",\"OSDI\",\"UKLN\",\"VABP\",\"YBAM\",\"AGGC\",\"KTRI\",\"OIAH\",\"PAMK\",\"PAQH\",\"RJOS\",\"SBJP\",\"ULMM\",\"WAOC\",\"CYHK\",\"KIPL\",\"KOKC\",\"PAII\",\"SARP\",\"WAMP\",\"YBLN\",\"ZGHZ\",\"CYNA\",\"FPST\",\"LERS\",\"MWCB\",\"NVSC\",\"OAFZ\",\"WAMT\",\"WAPH\",\"WASF\",\"EFOU\",\"ENVD\",\"KRUT\",\"LESO\",\"LFVP\",\"UEEA\",\"VTSP\",\"ZPDQ\",\"EDDV\",\"GOBD\",\"HSNN\",\"KJAC\",\"RPUV\",\"UESS\",\"USUU\",\"ZYDQ\",\"EHBK\",\"NTTB\",\"RJKN\",\"SBBV\",\"USKK\",\"YGTE\",\"ZYQQ\",\"OEMA\",\"PADL\",\"PAFA\",\"SAOC\",\"SKIP\",\"TTCP\",\"VETZ\",\"WAWR\",\"YSDU\",\"CYZT\",\"MMCS\",\"OETR\",\"SBPF\",\"ZUDX\",\"EDLP\",\"KHOB\",\"OMRK\",\"PATA\",\"RCKH\",\"URMT\",\"ZHCC\",\"EGKK\",\"HADC\",\"KBKL\",\"OIBB\",\"RJCM\",\"RPVB\",\"ZPZT\",\"ZSHC\",\"CYQD\",\"KMCI\",\"RJFR\",\"VEGK\",\"BGCO\",\"LOWS\",\"LTAR\",\"MTCA\",\"NZAP\",\"OPKC\",\"CYYQ\",\"OITR\",\"SLCB\",\"KAIA\",\"NIUE\",\"YCCT\",\"ZSWX\",\"CYQM\",\"DIBK\",\"KIWA\",\"KSDY\",\"SWPI\",\"TJBQ\",\"CYGK\",\"CYJQ\",\"FMNS\",\"HBBA\",\"LGIR\",\"RJBT\",\"RPMP\",\"UERS\",\"VDSR\",\"VYKG\",\"YARM\",\"YWLM\",\"MMIT\",\"MMLP\",\"RKPU\",\"SCBA\",\"ZGZH\",\"DAAP\",\"GVMA\",\"VVNB\",\"WBGL\",\"ZLXY\",\"KGDV\",\"LFOT\",\"SAZB\",\"BIEG\",\"DAUG\",\"KCNY\",\"LRBC\",\"LTFH\",\"NTGP\",\"UMMS\",\"ENVA\",\"KMMH\",\"LTFJ\",\"VAJB\",\"ZSFZ\",\"ZYCC\",\"BGUQ\",\"EIDW\",\"KCRQ\",\"KPDX\",\"KPSC\",\"UEST\",\"CYDQ\",\"CYEG\",\"CZKE\",\"KCDC\",\"KMSO\",\"LEXJ\",\"MYBS\",\"OJAQ\",\"ORSU\",\"PHKO\",\"EDLW\",\"EFKS\",\"ENBL\",\"KAVL\",\"KRDM\",\"MGGT\",\"ZSAQ\",\"PTPN\",\"SBPK\",\"SEQM\",\"UCFO\",\"UDSG\",\"ZPLJ\",\"KSFO\",\"PAHL\",\"SBRB\",\"SBSL\",\"EDFH\",\"EGAA\",\"KSBN\",\"NZWF\",\"PATC\",\"SLLP\",\"CYPN\",\"CYXY\",\"EGMC\",\"KLCH\",\"LEBL\",\"OITL\",\"RJFT\",\"TDPD\",\"WBGZ\",\"YBGD\",\"AYKA\",\"CYQG\",\"CYXU\",\"EGPR\",\"KLAR\",\"KSJC\",\"RPVT\",\"SAZM\",\"SKRH\",\"VLVT\",\"VRMT\",\"WIHH\",\"LGKP\",\"LICT\",\"LPGR\",\"NSTU\",\"NTAT\",\"PADE\",\"ENST\",\"PAVC\",\"SVCN\",\"KSAT\",\"LLBG\",\"LTAY\",\"VIJR\",\"YDPO\",\"AGGP\",\"EGPB\",\"EKEB\",\"FLND\",\"KCKB\",\"NFNR\",\"NLWW\",\"PASN\",\"WSSS\",\"CYBB\",\"ENBS\",\"FZQA\",\"LFLS\",\"RJAF\",\"YWHA\",\"HAGO\",\"KSCK\",\"SULS\",\"UHMD\",\"WADL\",\"WMKD\",\"HSGN\",\"LDSB\",\"NTHE\",\"ZUAL\",\"ZWBL\",\"CYSB\",\"LIPE\",\"RCYU\",\"WAPR\",\"WIPK\",\"YCFS\",\"ZWKN\",\"HAGB\",\"OICS\",\"PACD\",\"RPVM\",\"SAOU\",\"SKNQ\",\"UHMA\",\"VOTR\",\"YBHM\",\"YCOM\",\"CYDP\",\"HKWJ\",\"KPUB\",\"SBGV\",\"ZLZW\",\"ENKR\",\"KIDA\",\"RPUY\",\"SBMD\",\"SBUL\",\"SLYA\",\"UKDE\",\"VEGY\",\"CYWE\",\"HTMW\",\"OEAB\",\"OPKL\",\"RJCN\",\"SPQU\",\"VEBI\",\"AYKV\",\"ESNV\",\"GMTN\",\"KBTV\",\"RCKU\",\"WAJJ\",\"FADQ\",\"KSBD\",\"LEAL\",\"NTGE\",\"USII\",\"UUBC\",\"VEMN\",\"EFKK\",\"KBGR\",\"KCMI\",\"LEVC\",\"LIML\",\"LQSA\",\"WASK\",\"YKOW\",\"ZYLS\",\"CPV7\",\"CYFB\",\"DTTZ\",\"ENTO\",\"KFLO\",\"KRIW\",\"LGMK\",\"LPPT\",\"NZRO\",\"ZGFS\",\"AGGV\",\"LGRP\",\"NTTH\",\"PFCL\",\"RPVC\",\"UIKE\",\"YAUR\",\"ZWWW\",\"RPVS\",\"WBGT\",\"ZBUL\",\"ZLAK\",\"BIHU\",\"KLYH\",\"KMHT\",\"KOTH\",\"NTKN\",\"SBIH\",\"SPTU\",\"TVSV\",\"FMNA\",\"KVEL\",\"MMMX\",\"VVCA\",\"YDMG\",\"EGLC\",\"ENBV\",\"KBDL\",\"LEMD\",\"URMG\",\"HKEL\",\"WMSA\",\"ENBN\",\"GVSV\",\"KIAH\",\"KPIT\",\"LQTZ\",\"MMTM\",\"PAOR\",\"UNOO\",\"ZWKC\",\"EDDN\",\"FQCH\",\"KFNL\",\"NZAA\",\"PAKI\",\"WPDL\",\"ZSQD\",\"LYNI\",\"OOGB\",\"SBAU\",\"AYKI\",\"HTTG\",\"KHIB\",\"LKMT\",\"OPRK\",\"SLSU\",\"TISX\",\"URKA\",\"VOTV\",\"WADW\",\"FNUE\",\"MYEH\",\"PALU\",\"RJDT\",\"UTFA\",\"UWLW\",\"AGGK\",\"CYHZ\",\"KBFI\",\"KDLH\",\"LTCE\",\"SEGS\",\"AYTB\",\"CYXC\",\"GQPZ\",\"KDVL\",\"LPPS\",\"LTCC\",\"SNBR\",\"VLOS\",\"WBGB\",\"DAAS\",\"EGNS\",\"FQIN\",\"SCFM\",\"UGTB\",\"VCCK\",\"VTCL\",\"YLIS\",\"EDVK\",\"EGNX\",\"HUKS\",\"SNMA\",\"KLNK\",\"NTGA\",\"RPLP\",\"SBNF\",\"SKFL\",\"UHSK\",\"VEAT\",\"ZBER\",\"KFXE\",\"PHLU\",\"TTPP\",\"WAWB\",\"YBKT\",\"KAOO\",\"SBGL\",\"SLCO\",\"ULLI\",\"EDDK\",\"HAGM\",\"NTUV\",\"OEYN\",\"RJFS\",\"USDK\",\"WBGS\",\"YOLW\",\"KAUO\",\"KBLI\",\"KDTS\",\"KOWB\",\"KRNO\",\"LTCU\",\"ZJHK\",\"CYQY\",\"ESNL\",\"KART\",\"KLGA\",\"KSUN\",\"VABI\",\"VYHH\",\"ZBHD\",\"CZSJ\",\"HAAB\",\"KHSV\",\"VYMW\",\"YBDV\",\"EGNM\",\"VIBN\",\"VOCB\",\"WAMI\",\"YMEN\",\"GMMW\",\"OMDB\",\"PASI\",\"EKAH\",\"HKUK\",\"KFNT\",\"LYBE\",\"OIGG\",\"SBTF\",\"UATG\",\"KEYW\",\"PFEL\",\"SKCZ\",\"SKNV\",\"ZBOW\",\"CYMT\",\"EGPF\",\"KMVY\",\"NGBR\",\"SBSP\",\"ZSNB\",\"ZSOF\",\"ESOW\",\"LCPH\",\"SBME\",\"WARB\",\"ZSZS\",\"FNHU\",\"KBWI\",\"KGRR\",\"LFRK\",\"MYEM\",\"PAWB\",\"VTSB\",\"YMOG\",\"ZGDY\",\"CYKL\",\"KMLU\",\"KNYL\",\"LEZL\",\"LTCA\",\"NTKK\",\"PAEW\",\"PAVL\",\"DAAT\",\"EGJB\",\"EGNT\",\"ESUP\",\"KATL\",\"KBLV\",\"NVVV\",\"SBPJ\",\"VCRI\",\"ZLYA\",\"ZYDD\",\"KGRB\",\"SKMD\",\"SLRI\",\"ZSCN\",\"ENSS\",\"HKLO\",\"PAGH\",\"WIOO\",\"KABQ\",\"PAKK\",\"VVCI\",\"WASR\",\"CYPY\",\"EFKU\",\"EGHQ\",\"EVRA\",\"LPHR\",\"SAME\",\"UNAA\",\"CYKQ\",\"EGPD\",\"FMCH\",\"HTPE\",\"KFOD\",\"OINZ\",\"PAKN\",\"TXKF\",\"UTAK\",\"HRYR\",\"LIPR\",\"LTBY\",\"NGKT\",\"NVSI\",\"OIKB\",\"VNPK\",\"YCCY\",\"CYQU\",\"GMFF\",\"KSPI\",\"NGFU\",\"NTGI\",\"PAKV\",\"ULPB\",\"FACT\",\"ZUTC\",\"CYVR\",\"KTPA\",\"NTGW\",\"SYCJ\",\"EDDL\",\"HLMS\",\"MROC\",\"NVSE\",\"RJCK\",\"RJEB\",\"CYXJ\",\"KORS\",\"NVSO\",\"NZPM\",\"UESO\",\"VHHH\",\"VYDW\",\"ZSLQ\",\"BGMQ\",\"HTKJ\",\"LEDA\",\"ZGCJ\",\"EFLP\",\"LOWG\",\"RKJB\",\"SCAR\",\"SVBM\",\"VYBG\",\"YMHU\",\"LBWN\",\"NTGB\",\"OIKM\",\"UHMM\",\"WBKW\",\"CYVO\",\"CYYE\",\"CYZS\",\"ESNN\",\"GMME\",\"VTSE\",\"WADD\",\"CYLK\",\"EGHI\",\"GVBA\",\"KILM\",\"LTCD\",\"CYPH\",\"ETNL\",\"KEWR\",\"KSKX\",\"LHBP\",\"PATE\",\"SBUA\",\"SCTE\",\"SKCL\",\"SLTJ\",\"YBTL\",\"KATW\",\"OPFA\",\"SBML\",\"WADS\",\"CYXL\",\"OEGS\",\"HLLB\",\"KONT\",\"KTXK\",\"LPPI\",\"SKTL\",\"UWSG\",\"VABV\",\"OIBA\",\"RJOB\",\"ENAL\",\"KBIL\",\"KMBS\",\"LTAT\",\"OIBK\",\"SKPI\",\"YBWP\",\"ZLDH\",\"ZPLX\",\"ZULZ\",\"GMTT\",\"KFHR\",\"KSWF\",\"MMPB\",\"USDD\",\"VTCT\",\"CYKD\",\"CYYH\",\"EGSS\",\"NZWK\",\"SPST\",\"YWOL\",\"LTBS\",\"MMMA\",\"NZWU\",\"YPXM\",\"OISJ\",\"WMKI\",\"YGLA\",\"YPKG\",\"ZSWF\",\"ZWAK\",\"CYUY\",\"ENTC\",\"FZIC\",\"KPMD\",\"KPQI\",\"NVSG\",\"ZSYT\",\"PASM\",\"RPMG\",\"SNVS\",\"VIKA\",\"VLXK\",\"YMER\",\"EKVG\",\"GCGM\",\"KGPI\",\"KPHF\",\"KAEX\",\"KILG\",\"LROD\",\"NZWN\",\"PAUN\",\"RJNW\",\"SBCP\",\"UKBB\",\"YNTN\",\"BIAR\",\"GQNN\",\"KCYS\",\"PTRO\",\"RKNY\",\"TJVQ\",\"EPPO\",\"KEAT\",\"KSAW\",\"MMOX\",\"MWCL\",\"RJSY\",\"SPJL\",\"VYYY\",\"ZWKM\",\"GMFO\",\"ULAM\",\"VGHS\",\"KCNM\",\"NGTB\",\"NTKA\",\"NZQN\",\"RPVK\",\"VTBO\",\"WADB\",\"ZUNP\",\"CYZV\",\"DNIB\",\"LEIB\",\"OIMN\",\"PAOO\",\"RJCO\",\"BIHN\",\"KALB\",\"LFLC\",\"NTTM\",\"OIAA\",\"SEGU\",\"WADT\",\"AYGR\",\"KPAH\",\"NSFA\",\"OEGT\",\"YBHI\",\"ZGKL\",\"DFOO\",\"DISP\",\"EGSC\",\"EIKY\",\"ESNO\",\"FLMA\",\"LFBE\",\"NGMN\",\"OMSJ\",\"RJFU\",\"ENSH\",\"OEWD\",\"RKPC\",\"SBBG\",\"UNTT\",\"ZHYC\",\"ZUBD\",\"ZYJX\",\"DNIM\",\"FQNP\",\"LEZG\",\"LTAS\",\"NZHN\",\"RPLL\",\"SBNM\",\"SKSM\",\"DNIL\",\"EDDG\",\"KECP\",\"MYEF\",\"NGTU\",\"NTTP\",\"YMGB\",\"PGUM\",\"RKTN\",\"SKPS\",\"UWKD\",\"VYPT\",\"WMKA\",\"EFHK\",\"FAUT\",\"KDHN\",\"LELN\",\"LOWL\",\"CYCG\",\"FQBR\",\"HALA\",\"UACK\",\"MUVR\",\"NVSD\",\"ESKN\",\"KGRI\",\"KMCC\",\"LSZR\",\"LTBH\",\"OBBI\",\"ZGHY\",\"ZUQJ\",\"OOKB\",\"OPTU\",\"RJSA\",\"SLRQ\",\"ULWC\",\"YCWA\",\"KSYR\",\"LTBJ\",\"MMLC\",\"MRLB\",\"SAWH\",\"FQNC\",\"KCPR\",\"LICA\",\"NTGO\",\"SBUG\",\"UIUU\",\"EDDM\",\"KHPN\",\"KMOT\",\"LPFR\",\"SBRF\",\"UERL\",\"WALL\",\"YANG\",\"YMAA\",\"ZSFY\",\"KBUR\",\"NVSM\",\"USPP\",\"VEKU\",\"YPMQ\",\"YWLG\",\"FKYS\",\"HAAM\",\"HASO\",\"LFCR\",\"LPPR\",\"NCRG\",\"SAZY\",\"SBRJ\",\"SWKO\",\"UAKD\",\"VILH\",\"YDNI\",\"NZHK\",\"UENS\",\"UHNB\",\"ZYTL\",\"KESC\",\"KJST\",\"KLBE\",\"MMRX\",\"RPVA\",\"SCFA\",\"UIKB\",\"UUOO\",\"UWOO\",\"VTPO\",\"ZLGY\",\"EPLL\",\"KLBL\",\"KRHI\",\"MMSP\",\"MTPP\",\"PAPO\",\"ULKK\",\"ENOL\",\"KAUG\",\"KERI\",\"TRPG\",\"VTUW\",\"MMPA\",\"PFKT\",\"YMHB\",\"ESMS\",\"SVCU\",\"TKPN\",\"VEJT\",\"AGGU\",\"CYFA\",\"ENDU\",\"KHEF\",\"KRDU\",\"LOWI\",\"OICI\",\"UWGG\",\"UWWW\",\"VIGG\",\"CYKG\",\"KBRO\",\"RJSC\",\"WMKC\",\"OIAW\",\"SCDA\",\"UHBW\",\"KMAF\",\"LGKA\",\"LTAJ\",\"MMLO\",\"VLPS\",\"VVCS\",\"YEML\",\"CYBR\",\"EGGW\",\"FLLI\",\"FMCZ\",\"LEMH\",\"LGKR\",\"PAJN\",\"FMCV\",\"KGCK\",\"LGSA\",\"NVSX\",\"OOMX\",\"UBBL\",\"UKDD\",\"ZSDY\",\"AYBK\",\"EPZG\",\"KINL\",\"KSLK\",\"KTVF\",\"LGSR\",\"SPZO\",\"VTUD\",\"CYIF\",\"KEVV\",\"KPBG\",\"LICC\",\"OITT\",\"PADK\",\"SKRG\",\"AGGH\",\"MMSD\",\"MUNG\",\"RPMC\",\"SBCX\",\"USHB\",\"YCOE\",\"EPRZ\",\"KCLT\",\"RPMS\",\"UESU\",\"CTB6\",\"KFAR\",\"KMSS\",\"KSBP\",\"RPMZ\",\"TBPB\",\"VNJP\",\"GVAC\",\"KCAE\",\"KPUW\",\"LFJL\",\"RJBD\",\"SBCN\",\"VEIM\",\"VTUK\",\"ZLYL\",\"CYGH\",\"CYZG\",\"FOOL\",\"KADS\",\"MMCV\",\"VTUU\",\"KMCE\",\"LGTS\",\"OMDW\",\"PFKO\",\"YFLI\",\"LICJ\",\"NGTA\",\"OAKB\",\"ENSG\",\"ESSV\",\"KCWA\",\"OJAI\",\"SBMA\",\"YORG\",\"KTYS\",\"PAGY\",\"SBBW\",\"UTNN\",\"VOBZ\",\"YBCG\",\"ZSCG\",\"ZUMY\",\"BIKF\",\"CYMO\",\"KHTS\",\"KPSM\",\"OPIS\",\"WATG\",\"DNMM\",\"FNMO\",\"HTSO\",\"LATI\",\"OIKJ\",\"SCAT\",\"WSSL\",\"YBBN\",\"DNKA\",\"ENBR\",\"KHYA\",\"NFNK\",\"SKSP\",\"ZBXH\",\"FASS\",\"VVCT\",\"WAOP\",\"WAWW\",\"ZSJU\",\"DABC\",\"KFSD\",\"SAWC\",\"WASO\",\"FQQL\",\"HASM\",\"SCIE\",\"UEEE\",\"YQLP\",\"KDUJ\",\"KTLH\",\"LTCO\",\"SBAR\",\"UWKE\",\"CYKO\",\"EGPI\",\"GGOV\",\"KTTN\",\"LIRP\",\"LXGB\",\"SBFL\",\"ZPDL\",\"CYAM\",\"CYGV\",\"MHRO\",\"NGMK\",\"ZBAD\",\"GQPP\",\"YPKS\",\"CYDA\",\"MMPR\",\"ORBI\",\"RKSS\",\"UHMP\",\"UHSO\",\"WIPL\",\"YCAR\",\"ETUR\",\"HSFS\",\"KGSO\",\"UWKB\",\"YSTW\",\"EGYP\",\"FABL\",\"LFLB\",\"OERK\",\"RCMT\",\"SBCA\",\"SETM\",\"ZMBH\",\"ZSLG\",\"KMDW\",\"KXNA\",\"SASA\",\"UCFM\",\"ENSK\",\"KMMU\",\"KPGV\",\"RJGG\",\"SBSV\",\"VDSV\",\"EINN\",\"ESTA\",\"KCEC\",\"LGZA\",\"NZTU\",\"PTYA\",\"RJER\",\"UTNU\",\"VOMM\",\"ZUNZ\",\"DNAA\",\"EPGD\",\"OODQ\",\"ZLLL\",\"BKPR\",\"CYOW\",\"DAAG\",\"KHOU\",\"MUMZ\",\"PAHP\",\"SLPO\",\"RPLC\",\"UTSB\",\"VGLM\",\"WARJ\",\"LSZH\",\"NVVW\",\"OAHR\",\"RKPK\",\"VTSR\",\"CYRB\",\"LFMK\",\"LICD\",\"LIPH\",\"LTAN\",\"NGUK\",\"SKUC\",\"UNBG\",\"KMSN\",\"SBTE\",\"VEGT\",\"WBGK\",\"EGPL\",\"KPLN\",\"MMMM\",\"ZLQY\",\"EGPE\",\"FVFA\",\"HKNW\",\"PFKK\",\"RPUO\",\"WAWJ\",\"AGGF\",\"CZFN\",\"EIDL\",\"EYVI\",\"GBYD\",\"HAMK\",\"UIAA\",\"ZBYN\",\"HEBA\",\"MTJE\",\"OPGD\",\"PAGA\",\"SARC\",\"SBSG\",\"AYMO\",\"EDLV\",\"HCMH\",\"KBNA\",\"LTBZ\",\"LTFC\",\"OEJN\",\"UHSM\",\"UKON\",\"VEBD\",\"YPKA\",\"BGAA\",\"BIRK\",\"CYMH\",\"HDAM\",\"KMEI\",\"KOMA\",\"ZHSS\",\"ZSLY\",\"LCLK\",\"PAKW\",\"RJOC\",\"UACP\",\"UTAA\",\"UUOT\",\"AYIQ\",\"CYTS\",\"GMML\",\"LGSK\",\"NTKH\",\"VVPC\",\"YPAM\",\"EDDH\",\"KROW\",\"MMCZ\",\"PAPG\",\"RJTT\",\"VTSM\",\"GECE\",\"KLWS\",\"KMKE\",\"LBBG\",\"LIBR\",\"LTBQ\",\"NFFA\",\"OIZB\",\"PHHN\",\"YPBO\",\"ZPBS\",\"ZYLD\",\"ENSR\",\"KRDD\",\"LGKV\",\"NWWW\",\"WIMB\",\"ZGLG\",\"CYWK\",\"ESST\",\"LFBH\",\"MYNN\",\"ZSYN\",\"AGGB\",\"BGSS\",\"EKKA\",\"LEMG\",\"OIMB\",\"UADD\",\"UHOO\",\"YHLC\",\"CYQZ\",\"KEGE\",\"KHVR\",\"VTCN\",\"WBGG\",\"NZTG\",\"UTTT\",\"ZULS\",\"CYHO\",\"FAPM\",\"GOGS\",\"KSDM\",\"LFBT\",\"LWOH\",\"SANE\",\"UUBP\",\"YBRY\",\"YSCB\",\"EGPO\",\"NZDN\",\"RJFF\",\"TUPJ\",\"VCCW\",\"YBMA\",\"CYLC\",\"CYQQ\",\"FBFT\",\"KSDF\",\"LFMP\",\"LTAL\",\"NTGY\",\"RJFO\",\"VYME\",\"DAUA\",\"FMMV\",\"GABS\",\"KLAX\",\"KLSE\",\"KSOW\",\"ZLJC\",\"LDSP\",\"LFST\",\"LKPR\",\"RPVJ\",\"WABI\",\"YMRB\",\"AGGN\",\"LFGJ\",\"MGPB\",\"VORY\",\"WMKP\",\"CYCO\",\"ESPA\",\"KPRC\",\"TNCS\",\"CYAY\",\"EKBI\",\"KBVU\",\"KISP\",\"KSTS\",\"LFLW\",\"LFPO\",\"NGTO\",\"CYXX\",\"DNAI\",\"KCVG\",\"SKSA\",\"SPJC\",\"WAOK\",\"CYGR\",\"ENCN\",\"ENRO\",\"LGAV\",\"WAMG\",\"AYGA\",\"CYTQ\",\"GMMN\",\"CYHH\",\"DAAY\",\"KLRD\",\"LIPZ\",\"RJSF\",\"RPUH\",\"SARF\",\"ZLJN\",\"KHYS\",\"RPVV\",\"VVRG\",\"WATA\",\"YMRY\",\"FALD\",\"RPVP\",\"SKPV\",\"VGEG\",\"ZJSY\",\"CEM3\",\"DAOR\",\"LFRH\",\"OEGN\",\"OPST\",\"RCQC\",\"SVRS\",\"TJCP\",\"UWOR\",\"DTTG\",\"KCEZ\",\"KMCO\",\"LFPB\",\"MMQT\",\"OAMS\",\"SAMR\",\"SCVD\",\"SLOR\",\"FMMS\",\"FWKI\",\"KABY\",\"KGGW\",\"VRMM\",\"AYMR\",\"DAAJ\",\"FXMM\",\"KGFK\",\"KSBA\",\"MPBO\",\"OIKK\",\"PATJ\",\"SBPS\",\"UIBS\",\"UUBI\",\"YKII\",\"LTAF\",\"NTGV\",\"SAVV\",\"WAML\",\"YLTN\",\"FCPP\",\"KIAD\",\"MPMG\",\"PABT\",\"UTSA\",\"VAOZ\",\"HAJM\",\"KGEG\",\"LGKS\",\"SNTF\",\"SUMU\",\"UATT\",\"ULAL\",\"YKAL\",\"ZGSD\",\"EFRO\",\"LROP\",\"LTAZ\",\"NFFN\",\"NFNO\",\"SANU\",\"YBAU\",\"CYTZ\",\"DTMB\",\"EFMA\",\"EFTP\",\"ENHF\",\"FNCA\",\"FNLU\",\"KOLF\",\"KRKD\",\"LFHP\",\"MDPC\",\"NFNM\",\"DAUZ\",\"KHXD\",\"KICT\",\"LGST\",\"OINN\",\"PAMO\",\"SKEJ\",\"SVVA\",\"USNN\",\"WATL\",\"ZSJH\",\"ZYTX\",\"CTU5\",\"DAOO\",\"FNDU\",\"KLCK\",\"KVQQ\",\"NFCI\",\"NFTV\",\"UBBB\",\"WAQQ\",\"DNSO\",\"HE24\",\"KLFT\",\"MMNL\",\"PAKT\",\"UKHH\",\"WBKD\",\"YGDW\",\"LDOS\",\"ENML\",\"LIMZ\",\"MMLM\",\"PACK\",\"RJSI\",\"YMEK\",\"EGTE\",\"KFTY\",\"KGCC\",\"KVCT\",\"NZNV\",\"SBAT\",\"SBZM\",\"ZMKD\",\"CYQL\",\"CYYR\",\"KMLI\",\"KSHV\",\"LGIO\",\"VVPQ\",\"WATC\",\"KOWD\",\"LGPZ\",\"ZUYI\",\"DAUO\",\"EDFM\",\"YMAY\",\"YYKI\",\"KEAR\",\"KTWF\",\"MMAA\",\"SAAP\",\"UAKK\",\"YBSU\",\"AYMH\",\"CYQT\",\"EICK\",\"KDEN\",\"LEPP\",\"LEST\",\"RJCH\",\"VERC\",\"KCMH\",\"KMSL\",\"KPIA\",\"UHWP\",\"CYBK\",\"CYXN\",\"LIRN\",\"PABR\",\"PAGL\",\"SAWG\",\"YPTN\",\"LFTH\",\"LECO\",\"URMS\",\"ZUJZ\",\"CYSK\",\"ENRM\",\"MPDA\",\"RKSI\",\"TLPC\",\"UTDL\"]}\n"
     ]
    }
   ],
   "source": [
    "# copying python request from the site with APIs https://aerodatabox.p.rapidapi.com\n",
    "import requests\n",
    "import pandas as pd\n",
    "\n",
    "url = \"https://aerodatabox.p.rapidapi.com/health/services/feeds/FlightSchedules/airports\"\n",
    "\n",
    "headers = {\n",
    "    'x-rapidapi-host': \"aerodatabox.p.rapidapi.com\",\n",
    "    'x-rapidapi-key': \"9613ca6ca5msh62659872159916fp1a0a2cjsndd9a3e6ff324\"\n",
    "    }\n",
    "\n",
    "response = requests.get(url, headers=headers)\n",
    "\n",
    "print(response.text)"
   ]
  },
  {
   "cell_type": "code",
   "execution_count": 2,
   "id": "ea3224a8",
   "metadata": {},
   "outputs": [
    {
     "data": {
      "text/plain": [
       "{'items': [{'icao': 'LGTS',\n",
       "   'iata': 'SKG',\n",
       "   'name': 'Thessaloniki, Thessaloniki Macedonia',\n",
       "   'shortName': 'Macedonia',\n",
       "   'municipalityName': 'Thessaloniki',\n",
       "   'location': {'lat': 40.5197, 'lon': 22.9709},\n",
       "   'countryCode': 'GR'}]}"
      ]
     },
     "execution_count": 2,
     "metadata": {},
     "output_type": "execute_result"
    }
   ],
   "source": [
    "# we will check the option search 'airports by free text' and we will get a python code like the following\n",
    "url = \"https://aerodatabox.p.rapidapi.com/airports/search/term\"\n",
    "\n",
    "querystring = {\"q\":\"Thessaloniki\",\"limit\":\"5\"}\n",
    "\n",
    "headers = {\n",
    "    'x-rapidapi-host': \"aerodatabox.p.rapidapi.com\",\n",
    "    'x-rapidapi-key': \"9613ca6ca5msh62659872159916fp1a0a2cjsndd9a3e6ff324\"\n",
    "    }\n",
    "\n",
    "response = requests.get(url, headers=headers, params=querystring)\n",
    "response.json()\n",
    "# we get a json file, which is actually a dictionary and lists but it has some differences with the dictionaries\n",
    "# for instance in transforming a dictionary to a dataframe or a json file to a dataframe\n",
    "# Thessaloniki has only one airport this is the reason we get only one nested dictionary"
   ]
  },
  {
   "cell_type": "code",
   "execution_count": 3,
   "id": "1b0180bf",
   "metadata": {},
   "outputs": [
    {
     "data": {
      "text/plain": [
       "dict_keys(['items'])"
      ]
     },
     "execution_count": 3,
     "metadata": {},
     "output_type": "execute_result"
    }
   ],
   "source": [
    "# getting the key of the outside dictionary\n",
    "response.json().keys() "
   ]
  },
  {
   "cell_type": "code",
   "execution_count": 4,
   "id": "0228ebec",
   "metadata": {},
   "outputs": [
    {
     "data": {
      "text/plain": [
       "dict_values([[{'icao': 'LGTS', 'iata': 'SKG', 'name': 'Thessaloniki, Thessaloniki Macedonia', 'shortName': 'Macedonia', 'municipalityName': 'Thessaloniki', 'location': {'lat': 40.5197, 'lon': 22.9709}, 'countryCode': 'GR'}]])"
      ]
     },
     "execution_count": 4,
     "metadata": {},
     "output_type": "execute_result"
    }
   ],
   "source": [
    "# getting the values of the outside dictionary\n",
    "response.json().values() "
   ]
  },
  {
   "cell_type": "code",
   "execution_count": 5,
   "id": "4a07e21d",
   "metadata": {},
   "outputs": [
    {
     "data": {
      "text/plain": [
       "dict_keys(['icao', 'iata', 'name', 'shortName', 'municipalityName', 'location', 'countryCode'])"
      ]
     },
     "execution_count": 5,
     "metadata": {},
     "output_type": "execute_result"
    }
   ],
   "source": [
    "#  getting the keys of the nested dictionary\n",
    "response.json()['items'][0].keys() "
   ]
  },
  {
   "cell_type": "code",
   "execution_count": 6,
   "id": "e632c7c6",
   "metadata": {},
   "outputs": [
    {
     "data": {
      "text/plain": [
       "'SKG'"
      ]
     },
     "execution_count": 6,
     "metadata": {},
     "output_type": "execute_result"
    }
   ],
   "source": [
    "# Let's get an element of the dictionary, let's try iata\n",
    "response.json()['items'][0]['iata']"
   ]
  },
  {
   "cell_type": "code",
   "execution_count": 7,
   "id": "586b3ead",
   "metadata": {},
   "outputs": [],
   "source": [
    "# Let's get an other element of the dictionary, let's try shortName"
   ]
  },
  {
   "cell_type": "code",
   "execution_count": 8,
   "id": "2bff6104",
   "metadata": {},
   "outputs": [
    {
     "data": {
      "text/plain": [
       "'Macedonia'"
      ]
     },
     "execution_count": 8,
     "metadata": {},
     "output_type": "execute_result"
    }
   ],
   "source": [
    "response.json()['items'][0]['shortName']"
   ]
  },
  {
   "cell_type": "code",
   "execution_count": 9,
   "id": "8a1e0fe0",
   "metadata": {},
   "outputs": [],
   "source": [
    "# response.json()['items'][100]\n",
    "# in case we use an index out of range we will get an error"
   ]
  },
  {
   "cell_type": "code",
   "execution_count": 10,
   "id": "ca01a38c",
   "metadata": {},
   "outputs": [],
   "source": [
    "# creating a function\n",
    "# we use the same headers\n",
    "headers = {\n",
    "    'x-rapidapi-host': \"aerodatabox.p.rapidapi.com\",\n",
    "    'x-rapidapi-key': \"9613ca6ca5msh62659872159916fp1a0a2cjsndd9a3e6ff324\"\n",
    "    }\n",
    "\n",
    "\n",
    "def get_codes():\n",
    "    \n",
    "    location = input('Insert the location:')\n",
    "    print()\n",
    "    \n",
    "    url = \"https://aerodatabox.p.rapidapi.com/airports/search/term\"\n",
    "    querystring = {\"q\":location.lower(), \"limit\":\"5\"}\n",
    "\n",
    "    response = requests.get(url, headers=headers, params=querystring)\n",
    "    codes = response.json()['items'] if 'items' in response.json() else location\n",
    "\n",
    "    return codes\n",
    "\n",
    "# in case we have more than one airports in a city, in order to return icao\n",
    "def choose_code():\n",
    "    \n",
    "    codes = get_codes()\n",
    "    \n",
    "    while type(codes) is str or len(codes) != 1:\n",
    "        \n",
    "        if not codes:\n",
    "            print('Try another location. Unable to find code for:', codes, '\\n')\n",
    "        else:\n",
    "            print('More than one location found. Insert one of the following airports:', [code['shortName'] for code in codes], '\\n')\n",
    "        \n",
    "        codes = get_codes()\n",
    "    \n",
    "    return codes[0]['icao']\n",
    "\n",
    "\n",
    "def flight_distance_time(departure, arrival):\n",
    "    url = f\"https://aerodatabox.p.rapidapi.com/airports/icao/{departure}/distance-time/{arrival}\"\n",
    "    response = requests.get(url, headers=headers)\n",
    "    return pd.json_normalize(response.json()).T\n",
    "\n"
   ]
  },
  {
   "cell_type": "code",
   "execution_count": 11,
   "id": "91bc7bec",
   "metadata": {},
   "outputs": [
    {
     "name": "stdout",
     "output_type": "stream",
     "text": [
      "[DEPARTURE]\n",
      "Insert the location:Thessaloniki\n",
      "\n",
      "[DESTINATION]\n",
      "Insert the location:New York\n",
      "\n",
      "More than one location found. Insert one of the following airports: ['La Guardia', 'John F Kennedy'] \n",
      "\n",
      "Insert the location:John F Kennedy\n",
      "\n",
      "More than one location found. Insert one of the following airports: ['John F Kennedy', 'John F Kennedy Memorial'] \n",
      "\n",
      "Insert the location:John F Kennedy\n",
      "\n",
      "More than one location found. Insert one of the following airports: ['John F Kennedy', 'John F Kennedy Memorial'] \n",
      "\n",
      "Insert the location:John F Kennedy Memorial\n",
      "\n"
     ]
    },
    {
     "data": {
      "text/html": [
       "<div>\n",
       "<style scoped>\n",
       "    .dataframe tbody tr th:only-of-type {\n",
       "        vertical-align: middle;\n",
       "    }\n",
       "\n",
       "    .dataframe tbody tr th {\n",
       "        vertical-align: top;\n",
       "    }\n",
       "\n",
       "    .dataframe thead th {\n",
       "        text-align: right;\n",
       "    }\n",
       "</style>\n",
       "<table border=\"1\" class=\"dataframe\">\n",
       "  <thead>\n",
       "    <tr style=\"text-align: right;\">\n",
       "      <th></th>\n",
       "      <th>0</th>\n",
       "    </tr>\n",
       "  </thead>\n",
       "  <tbody>\n",
       "    <tr>\n",
       "      <th>message</th>\n",
       "      <td>You have exceeded the MONTHLY quota for Tier 2...</td>\n",
       "    </tr>\n",
       "  </tbody>\n",
       "</table>\n",
       "</div>"
      ],
      "text/plain": [
       "                                                         0\n",
       "message  You have exceeded the MONTHLY quota for Tier 2..."
      ]
     },
     "execution_count": 11,
     "metadata": {},
     "output_type": "execute_result"
    }
   ],
   "source": [
    "print('[DEPARTURE]')\n",
    "departure = choose_code()\n",
    "print('[DESTINATION]')\n",
    "arrival = choose_code()\n",
    "\n",
    "flight_df = flight_distance_time(departure, arrival)\n",
    "flight_df"
   ]
  },
  {
   "cell_type": "code",
   "execution_count": 12,
   "id": "c2af9021",
   "metadata": {},
   "outputs": [
    {
     "data": {
      "text/plain": [
       "401"
      ]
     },
     "execution_count": 12,
     "metadata": {},
     "output_type": "execute_result"
    }
   ],
   "source": [
    "# Let's try different stuff\n",
    "NBA = response1 = requests.get(\"https://api.sportsdata.io/api/nba/fantasy/json/CurrentSeason\")\n",
    "NBA.status_code\n",
    "# we are not properly authenticated"
   ]
  },
  {
   "cell_type": "code",
   "execution_count": 13,
   "id": "512c8fc0",
   "metadata": {
    "scrolled": true
   },
   "outputs": [
    {
     "name": "stderr",
     "output_type": "stream",
     "text": [
      "C:\\Users\\Admin\\AppData\\Local\\Temp/ipykernel_8120/3792849529.py:5: FutureWarning: pandas.io.json.json_normalize is deprecated, use pandas.json_normalize instead\n",
      "  earthquake_data = json_normalize(out['features'])\n"
     ]
    },
    {
     "data": {
      "text/html": [
       "<div>\n",
       "<style scoped>\n",
       "    .dataframe tbody tr th:only-of-type {\n",
       "        vertical-align: middle;\n",
       "    }\n",
       "\n",
       "    .dataframe tbody tr th {\n",
       "        vertical-align: top;\n",
       "    }\n",
       "\n",
       "    .dataframe thead th {\n",
       "        text-align: right;\n",
       "    }\n",
       "</style>\n",
       "<table border=\"1\" class=\"dataframe\">\n",
       "  <thead>\n",
       "    <tr style=\"text-align: right;\">\n",
       "      <th></th>\n",
       "      <th>type</th>\n",
       "      <th>id</th>\n",
       "      <th>properties.mag</th>\n",
       "      <th>properties.place</th>\n",
       "      <th>properties.time</th>\n",
       "      <th>properties.updated</th>\n",
       "      <th>properties.tz</th>\n",
       "      <th>properties.url</th>\n",
       "      <th>properties.detail</th>\n",
       "      <th>properties.felt</th>\n",
       "      <th>...</th>\n",
       "      <th>properties.types</th>\n",
       "      <th>properties.nst</th>\n",
       "      <th>properties.dmin</th>\n",
       "      <th>properties.rms</th>\n",
       "      <th>properties.gap</th>\n",
       "      <th>properties.magType</th>\n",
       "      <th>properties.type</th>\n",
       "      <th>properties.title</th>\n",
       "      <th>geometry.type</th>\n",
       "      <th>geometry.coordinates</th>\n",
       "    </tr>\n",
       "  </thead>\n",
       "  <tbody>\n",
       "    <tr>\n",
       "      <th>0</th>\n",
       "      <td>Feature</td>\n",
       "      <td>nc73764170</td>\n",
       "      <td>2.10</td>\n",
       "      <td>9km NNE of Lake Pillsbury, CA</td>\n",
       "      <td>1659645852070</td>\n",
       "      <td>1659645951253</td>\n",
       "      <td>None</td>\n",
       "      <td>https://earthquake.usgs.gov/earthquakes/eventp...</td>\n",
       "      <td>https://earthquake.usgs.gov/fdsnws/event/1/que...</td>\n",
       "      <td>NaN</td>\n",
       "      <td>...</td>\n",
       "      <td>,nearby-cities,origin,phase-data,</td>\n",
       "      <td>15.0</td>\n",
       "      <td>0.192300</td>\n",
       "      <td>0.21</td>\n",
       "      <td>75.0</td>\n",
       "      <td>md</td>\n",
       "      <td>earthquake</td>\n",
       "      <td>M 2.1 - 9km NNE of Lake Pillsbury, CA</td>\n",
       "      <td>Point</td>\n",
       "      <td>[-122.928833, 39.4884987, -0.28]</td>\n",
       "    </tr>\n",
       "    <tr>\n",
       "      <th>1</th>\n",
       "      <td>Feature</td>\n",
       "      <td>ak0229xk6c3l</td>\n",
       "      <td>1.40</td>\n",
       "      <td>9 km WNW of Tatitlek, Alaska</td>\n",
       "      <td>1659645087697</td>\n",
       "      <td>1659645214861</td>\n",
       "      <td>None</td>\n",
       "      <td>https://earthquake.usgs.gov/earthquakes/eventp...</td>\n",
       "      <td>https://earthquake.usgs.gov/fdsnws/event/1/que...</td>\n",
       "      <td>NaN</td>\n",
       "      <td>...</td>\n",
       "      <td>,origin,phase-data,</td>\n",
       "      <td>NaN</td>\n",
       "      <td>NaN</td>\n",
       "      <td>0.62</td>\n",
       "      <td>NaN</td>\n",
       "      <td>ml</td>\n",
       "      <td>earthquake</td>\n",
       "      <td>M 1.4 - 9 km WNW of Tatitlek, Alaska</td>\n",
       "      <td>Point</td>\n",
       "      <td>[-146.8448, 60.8919, 27.4]</td>\n",
       "    </tr>\n",
       "    <tr>\n",
       "      <th>2</th>\n",
       "      <td>Feature</td>\n",
       "      <td>ak0229xk5uzn</td>\n",
       "      <td>1.20</td>\n",
       "      <td>131 km SE of McCarthy, Alaska</td>\n",
       "      <td>1659644945959</td>\n",
       "      <td>1659645220400</td>\n",
       "      <td>None</td>\n",
       "      <td>https://earthquake.usgs.gov/earthquakes/eventp...</td>\n",
       "      <td>https://earthquake.usgs.gov/fdsnws/event/1/que...</td>\n",
       "      <td>NaN</td>\n",
       "      <td>...</td>\n",
       "      <td>,origin,phase-data,</td>\n",
       "      <td>NaN</td>\n",
       "      <td>NaN</td>\n",
       "      <td>0.34</td>\n",
       "      <td>NaN</td>\n",
       "      <td>ml</td>\n",
       "      <td>earthquake</td>\n",
       "      <td>M 1.2 - 131 km SE of McCarthy, Alaska</td>\n",
       "      <td>Point</td>\n",
       "      <td>[-141.2157, 60.5868, 28.8]</td>\n",
       "    </tr>\n",
       "    <tr>\n",
       "      <th>3</th>\n",
       "      <td>Feature</td>\n",
       "      <td>ak0229xk5n0c</td>\n",
       "      <td>1.30</td>\n",
       "      <td>124 km SE of McCarthy, Alaska</td>\n",
       "      <td>1659644882526</td>\n",
       "      <td>1659644997724</td>\n",
       "      <td>None</td>\n",
       "      <td>https://earthquake.usgs.gov/earthquakes/eventp...</td>\n",
       "      <td>https://earthquake.usgs.gov/fdsnws/event/1/que...</td>\n",
       "      <td>NaN</td>\n",
       "      <td>...</td>\n",
       "      <td>,origin,phase-data,</td>\n",
       "      <td>NaN</td>\n",
       "      <td>NaN</td>\n",
       "      <td>0.59</td>\n",
       "      <td>NaN</td>\n",
       "      <td>ml</td>\n",
       "      <td>earthquake</td>\n",
       "      <td>M 1.3 - 124 km SE of McCarthy, Alaska</td>\n",
       "      <td>Point</td>\n",
       "      <td>[-141.3562, 60.6124, 7.6]</td>\n",
       "    </tr>\n",
       "    <tr>\n",
       "      <th>4</th>\n",
       "      <td>Feature</td>\n",
       "      <td>ak0229xk3l1s</td>\n",
       "      <td>1.70</td>\n",
       "      <td>124 km SE of McCarthy, Alaska</td>\n",
       "      <td>1659644324000</td>\n",
       "      <td>1659644487774</td>\n",
       "      <td>None</td>\n",
       "      <td>https://earthquake.usgs.gov/earthquakes/eventp...</td>\n",
       "      <td>https://earthquake.usgs.gov/fdsnws/event/1/que...</td>\n",
       "      <td>NaN</td>\n",
       "      <td>...</td>\n",
       "      <td>,origin,phase-data,</td>\n",
       "      <td>NaN</td>\n",
       "      <td>NaN</td>\n",
       "      <td>0.56</td>\n",
       "      <td>NaN</td>\n",
       "      <td>ml</td>\n",
       "      <td>earthquake</td>\n",
       "      <td>M 1.7 - 124 km SE of McCarthy, Alaska</td>\n",
       "      <td>Point</td>\n",
       "      <td>[-141.3665, 60.608, 8.8]</td>\n",
       "    </tr>\n",
       "    <tr>\n",
       "      <th>...</th>\n",
       "      <td>...</td>\n",
       "      <td>...</td>\n",
       "      <td>...</td>\n",
       "      <td>...</td>\n",
       "      <td>...</td>\n",
       "      <td>...</td>\n",
       "      <td>...</td>\n",
       "      <td>...</td>\n",
       "      <td>...</td>\n",
       "      <td>...</td>\n",
       "      <td>...</td>\n",
       "      <td>...</td>\n",
       "      <td>...</td>\n",
       "      <td>...</td>\n",
       "      <td>...</td>\n",
       "      <td>...</td>\n",
       "      <td>...</td>\n",
       "      <td>...</td>\n",
       "      <td>...</td>\n",
       "      <td>...</td>\n",
       "      <td>...</td>\n",
       "    </tr>\n",
       "    <tr>\n",
       "      <th>8967</th>\n",
       "      <td>Feature</td>\n",
       "      <td>ci40297520</td>\n",
       "      <td>0.32</td>\n",
       "      <td>12km N of Cabazon, CA</td>\n",
       "      <td>1657056241270</td>\n",
       "      <td>1657130561264</td>\n",
       "      <td>None</td>\n",
       "      <td>https://earthquake.usgs.gov/earthquakes/eventp...</td>\n",
       "      <td>https://earthquake.usgs.gov/fdsnws/event/1/que...</td>\n",
       "      <td>NaN</td>\n",
       "      <td>...</td>\n",
       "      <td>,nearby-cities,origin,phase-data,scitech-link,</td>\n",
       "      <td>13.0</td>\n",
       "      <td>0.031800</td>\n",
       "      <td>0.11</td>\n",
       "      <td>102.0</td>\n",
       "      <td>ml</td>\n",
       "      <td>earthquake</td>\n",
       "      <td>M 0.3 - 12km N of Cabazon, CA</td>\n",
       "      <td>Point</td>\n",
       "      <td>[-116.7703333, 34.0285, 13.02]</td>\n",
       "    </tr>\n",
       "    <tr>\n",
       "      <th>8968</th>\n",
       "      <td>Feature</td>\n",
       "      <td>ak0228jykkws</td>\n",
       "      <td>1.10</td>\n",
       "      <td>13 km NNE of Susitna, Alaska</td>\n",
       "      <td>1657055911962</td>\n",
       "      <td>1657056035658</td>\n",
       "      <td>None</td>\n",
       "      <td>https://earthquake.usgs.gov/earthquakes/eventp...</td>\n",
       "      <td>https://earthquake.usgs.gov/fdsnws/event/1/que...</td>\n",
       "      <td>NaN</td>\n",
       "      <td>...</td>\n",
       "      <td>,origin,phase-data,</td>\n",
       "      <td>NaN</td>\n",
       "      <td>NaN</td>\n",
       "      <td>1.28</td>\n",
       "      <td>NaN</td>\n",
       "      <td>ml</td>\n",
       "      <td>earthquake</td>\n",
       "      <td>M 1.1 - 13 km NNE of Susitna, Alaska</td>\n",
       "      <td>Point</td>\n",
       "      <td>[-150.4145, 61.653, 49.4]</td>\n",
       "    </tr>\n",
       "    <tr>\n",
       "      <th>8969</th>\n",
       "      <td>Feature</td>\n",
       "      <td>nc73754991</td>\n",
       "      <td>0.30</td>\n",
       "      <td>2km NNE of The Geysers, CA</td>\n",
       "      <td>1657055038110</td>\n",
       "      <td>1657056316271</td>\n",
       "      <td>None</td>\n",
       "      <td>https://earthquake.usgs.gov/earthquakes/eventp...</td>\n",
       "      <td>https://earthquake.usgs.gov/fdsnws/event/1/que...</td>\n",
       "      <td>NaN</td>\n",
       "      <td>...</td>\n",
       "      <td>,nearby-cities,origin,phase-data,scitech-link,</td>\n",
       "      <td>12.0</td>\n",
       "      <td>0.008054</td>\n",
       "      <td>0.03</td>\n",
       "      <td>94.0</td>\n",
       "      <td>md</td>\n",
       "      <td>earthquake</td>\n",
       "      <td>M 0.3 - 2km NNE of The Geysers, CA</td>\n",
       "      <td>Point</td>\n",
       "      <td>[-122.7505035, 38.7970009, 2.56]</td>\n",
       "    </tr>\n",
       "    <tr>\n",
       "      <th>8970</th>\n",
       "      <td>Feature</td>\n",
       "      <td>ak0228jy7ps4</td>\n",
       "      <td>1.20</td>\n",
       "      <td>35 km WNW of Anchor Point, Alaska</td>\n",
       "      <td>1657054709802</td>\n",
       "      <td>1657054868227</td>\n",
       "      <td>None</td>\n",
       "      <td>https://earthquake.usgs.gov/earthquakes/eventp...</td>\n",
       "      <td>https://earthquake.usgs.gov/fdsnws/event/1/que...</td>\n",
       "      <td>NaN</td>\n",
       "      <td>...</td>\n",
       "      <td>,origin,phase-data,</td>\n",
       "      <td>NaN</td>\n",
       "      <td>NaN</td>\n",
       "      <td>0.39</td>\n",
       "      <td>NaN</td>\n",
       "      <td>ml</td>\n",
       "      <td>earthquake</td>\n",
       "      <td>M 1.2 - 35 km WNW of Anchor Point, Alaska</td>\n",
       "      <td>Point</td>\n",
       "      <td>[-152.4016, 59.9215, 70.5]</td>\n",
       "    </tr>\n",
       "    <tr>\n",
       "      <th>8971</th>\n",
       "      <td>Feature</td>\n",
       "      <td>ci40297480</td>\n",
       "      <td>0.94</td>\n",
       "      <td>7km NE of Moreno Valley, CA</td>\n",
       "      <td>1657054127660</td>\n",
       "      <td>1657309073431</td>\n",
       "      <td>None</td>\n",
       "      <td>https://earthquake.usgs.gov/earthquakes/eventp...</td>\n",
       "      <td>https://earthquake.usgs.gov/fdsnws/event/1/que...</td>\n",
       "      <td>NaN</td>\n",
       "      <td>...</td>\n",
       "      <td>,nearby-cities,origin,phase-data,scitech-link,</td>\n",
       "      <td>29.0</td>\n",
       "      <td>0.113300</td>\n",
       "      <td>0.16</td>\n",
       "      <td>68.0</td>\n",
       "      <td>ml</td>\n",
       "      <td>earthquake</td>\n",
       "      <td>M 0.9 - 7km NE of Moreno Valley, CA</td>\n",
       "      <td>Point</td>\n",
       "      <td>[-117.1686667, 33.971, 15.7]</td>\n",
       "    </tr>\n",
       "  </tbody>\n",
       "</table>\n",
       "<p>8972 rows × 30 columns</p>\n",
       "</div>"
      ],
      "text/plain": [
       "         type            id  properties.mag  \\\n",
       "0     Feature    nc73764170            2.10   \n",
       "1     Feature  ak0229xk6c3l            1.40   \n",
       "2     Feature  ak0229xk5uzn            1.20   \n",
       "3     Feature  ak0229xk5n0c            1.30   \n",
       "4     Feature  ak0229xk3l1s            1.70   \n",
       "...       ...           ...             ...   \n",
       "8967  Feature    ci40297520            0.32   \n",
       "8968  Feature  ak0228jykkws            1.10   \n",
       "8969  Feature    nc73754991            0.30   \n",
       "8970  Feature  ak0228jy7ps4            1.20   \n",
       "8971  Feature    ci40297480            0.94   \n",
       "\n",
       "                       properties.place  properties.time  properties.updated  \\\n",
       "0         9km NNE of Lake Pillsbury, CA    1659645852070       1659645951253   \n",
       "1          9 km WNW of Tatitlek, Alaska    1659645087697       1659645214861   \n",
       "2         131 km SE of McCarthy, Alaska    1659644945959       1659645220400   \n",
       "3         124 km SE of McCarthy, Alaska    1659644882526       1659644997724   \n",
       "4         124 km SE of McCarthy, Alaska    1659644324000       1659644487774   \n",
       "...                                 ...              ...                 ...   \n",
       "8967              12km N of Cabazon, CA    1657056241270       1657130561264   \n",
       "8968       13 km NNE of Susitna, Alaska    1657055911962       1657056035658   \n",
       "8969         2km NNE of The Geysers, CA    1657055038110       1657056316271   \n",
       "8970  35 km WNW of Anchor Point, Alaska    1657054709802       1657054868227   \n",
       "8971        7km NE of Moreno Valley, CA    1657054127660       1657309073431   \n",
       "\n",
       "     properties.tz                                     properties.url  \\\n",
       "0             None  https://earthquake.usgs.gov/earthquakes/eventp...   \n",
       "1             None  https://earthquake.usgs.gov/earthquakes/eventp...   \n",
       "2             None  https://earthquake.usgs.gov/earthquakes/eventp...   \n",
       "3             None  https://earthquake.usgs.gov/earthquakes/eventp...   \n",
       "4             None  https://earthquake.usgs.gov/earthquakes/eventp...   \n",
       "...            ...                                                ...   \n",
       "8967          None  https://earthquake.usgs.gov/earthquakes/eventp...   \n",
       "8968          None  https://earthquake.usgs.gov/earthquakes/eventp...   \n",
       "8969          None  https://earthquake.usgs.gov/earthquakes/eventp...   \n",
       "8970          None  https://earthquake.usgs.gov/earthquakes/eventp...   \n",
       "8971          None  https://earthquake.usgs.gov/earthquakes/eventp...   \n",
       "\n",
       "                                      properties.detail  properties.felt  ...  \\\n",
       "0     https://earthquake.usgs.gov/fdsnws/event/1/que...              NaN  ...   \n",
       "1     https://earthquake.usgs.gov/fdsnws/event/1/que...              NaN  ...   \n",
       "2     https://earthquake.usgs.gov/fdsnws/event/1/que...              NaN  ...   \n",
       "3     https://earthquake.usgs.gov/fdsnws/event/1/que...              NaN  ...   \n",
       "4     https://earthquake.usgs.gov/fdsnws/event/1/que...              NaN  ...   \n",
       "...                                                 ...              ...  ...   \n",
       "8967  https://earthquake.usgs.gov/fdsnws/event/1/que...              NaN  ...   \n",
       "8968  https://earthquake.usgs.gov/fdsnws/event/1/que...              NaN  ...   \n",
       "8969  https://earthquake.usgs.gov/fdsnws/event/1/que...              NaN  ...   \n",
       "8970  https://earthquake.usgs.gov/fdsnws/event/1/que...              NaN  ...   \n",
       "8971  https://earthquake.usgs.gov/fdsnws/event/1/que...              NaN  ...   \n",
       "\n",
       "                                    properties.types  properties.nst  \\\n",
       "0                  ,nearby-cities,origin,phase-data,            15.0   \n",
       "1                                ,origin,phase-data,             NaN   \n",
       "2                                ,origin,phase-data,             NaN   \n",
       "3                                ,origin,phase-data,             NaN   \n",
       "4                                ,origin,phase-data,             NaN   \n",
       "...                                              ...             ...   \n",
       "8967  ,nearby-cities,origin,phase-data,scitech-link,            13.0   \n",
       "8968                             ,origin,phase-data,             NaN   \n",
       "8969  ,nearby-cities,origin,phase-data,scitech-link,            12.0   \n",
       "8970                             ,origin,phase-data,             NaN   \n",
       "8971  ,nearby-cities,origin,phase-data,scitech-link,            29.0   \n",
       "\n",
       "     properties.dmin properties.rms  properties.gap  properties.magType  \\\n",
       "0           0.192300           0.21            75.0                  md   \n",
       "1                NaN           0.62             NaN                  ml   \n",
       "2                NaN           0.34             NaN                  ml   \n",
       "3                NaN           0.59             NaN                  ml   \n",
       "4                NaN           0.56             NaN                  ml   \n",
       "...              ...            ...             ...                 ...   \n",
       "8967        0.031800           0.11           102.0                  ml   \n",
       "8968             NaN           1.28             NaN                  ml   \n",
       "8969        0.008054           0.03            94.0                  md   \n",
       "8970             NaN           0.39             NaN                  ml   \n",
       "8971        0.113300           0.16            68.0                  ml   \n",
       "\n",
       "     properties.type                           properties.title geometry.type  \\\n",
       "0         earthquake      M 2.1 - 9km NNE of Lake Pillsbury, CA         Point   \n",
       "1         earthquake       M 1.4 - 9 km WNW of Tatitlek, Alaska         Point   \n",
       "2         earthquake      M 1.2 - 131 km SE of McCarthy, Alaska         Point   \n",
       "3         earthquake      M 1.3 - 124 km SE of McCarthy, Alaska         Point   \n",
       "4         earthquake      M 1.7 - 124 km SE of McCarthy, Alaska         Point   \n",
       "...              ...                                        ...           ...   \n",
       "8967      earthquake              M 0.3 - 12km N of Cabazon, CA         Point   \n",
       "8968      earthquake       M 1.1 - 13 km NNE of Susitna, Alaska         Point   \n",
       "8969      earthquake         M 0.3 - 2km NNE of The Geysers, CA         Point   \n",
       "8970      earthquake  M 1.2 - 35 km WNW of Anchor Point, Alaska         Point   \n",
       "8971      earthquake        M 0.9 - 7km NE of Moreno Valley, CA         Point   \n",
       "\n",
       "                  geometry.coordinates  \n",
       "0     [-122.928833, 39.4884987, -0.28]  \n",
       "1           [-146.8448, 60.8919, 27.4]  \n",
       "2           [-141.2157, 60.5868, 28.8]  \n",
       "3            [-141.3562, 60.6124, 7.6]  \n",
       "4             [-141.3665, 60.608, 8.8]  \n",
       "...                                ...  \n",
       "8967    [-116.7703333, 34.0285, 13.02]  \n",
       "8968         [-150.4145, 61.653, 49.4]  \n",
       "8969  [-122.7505035, 38.7970009, 2.56]  \n",
       "8970        [-152.4016, 59.9215, 70.5]  \n",
       "8971      [-117.1686667, 33.971, 15.7]  \n",
       "\n",
       "[8972 rows x 30 columns]"
      ]
     },
     "execution_count": 13,
     "metadata": {},
     "output_type": "execute_result"
    }
   ],
   "source": [
    "# getting APIs for earthquakes in USA\n",
    "from pandas.io.json import json_normalize\n",
    "response2 = requests.get('https://earthquake.usgs.gov/fdsnws/event/1/query?format=geojson')\n",
    "out = response2.json()\n",
    "earthquake_data = json_normalize(out['features'])\n",
    "earthquake_data"
   ]
  },
  {
   "cell_type": "code",
   "execution_count": 14,
   "id": "bdaeeab0",
   "metadata": {},
   "outputs": [
    {
     "data": {
      "text/plain": [
       "7.0"
      ]
     },
     "execution_count": 14,
     "metadata": {},
     "output_type": "execute_result"
    }
   ],
   "source": [
    "# getting the maximum of the feature properties.mag\n",
    "earthquake_data['properties.mag'].max()"
   ]
  }
 ],
 "metadata": {
  "kernelspec": {
   "display_name": "Python 3 (ipykernel)",
   "language": "python",
   "name": "python3"
  },
  "language_info": {
   "codemirror_mode": {
    "name": "ipython",
    "version": 3
   },
   "file_extension": ".py",
   "mimetype": "text/x-python",
   "name": "python",
   "nbconvert_exporter": "python",
   "pygments_lexer": "ipython3",
   "version": "3.9.7"
  }
 },
 "nbformat": 4,
 "nbformat_minor": 5
}
